{
 "cells": [
  {
   "cell_type": "code",
   "execution_count": null,
   "id": "b742b1ad",
   "metadata": {},
   "outputs": [],
   "source": [
    "# Link - https://github.com/dabillox/pyprojects/blob/master/citydistance.py\n",
    "\n",
    "# Video - https://www.youtube.com/watch?v=7YfyIhhmwq4"
   ]
  },
  {
   "cell_type": "code",
   "execution_count": null,
   "id": "fab9fde1",
   "metadata": {},
   "outputs": [],
   "source": [
    "# Distance Formula\n",
    "\n",
    "# sqrt(x) = x^0.5\n",
    "\n",
    "# A (x1,y1) Austin (30.2672,97.7431) N, W\n",
    "\n",
    "# B (x2,y2) Dallas (32.7767,96.7970) N, W\n",
    "\n",
    "# Distance = sqrt((x2-x1)^2 + (y2-y1)^2)"
   ]
  },
  {
   "cell_type": "code",
   "execution_count": null,
   "id": "d7548bea",
   "metadata": {},
   "outputs": [],
   "source": [
    "def Distance(x1,y1,x2,y2):\n",
    "    dist = ((x2-x1)**2 + (y2-y1)**2)**0.5\n",
    "    return dist"
   ]
  },
  {
   "cell_type": "code",
   "execution_count": null,
   "id": "48d5c8f3",
   "metadata": {},
   "outputs": [],
   "source": [
    "Distance(30.2672,97.7431,32.7767,96.7970)"
   ]
  },
  {
   "cell_type": "code",
   "execution_count": 4,
   "id": "a5ca13d5",
   "metadata": {},
   "outputs": [
    {
     "name": "stdout",
     "output_type": "stream",
     "text": [
      "Enter x1: 5\n",
      "Enter y1: 8\n",
      "Enter x2: 12\n",
      "Enter y2: 15\n",
      "the two points are: \n",
      "( 5 , 8 )\n",
      "( 12 , 15 )\n",
      "distance = 7.0\n",
      "or the sqrt of:  49.0\n"
     ]
    }
   ],
   "source": [
    "from math import *\n",
    "\n",
    "x1 = int(input(\"Enter x1: \"))\n",
    "\n",
    "y1 = int(input(\"Enter y1: \"))\n",
    "\n",
    "x2 = int(input(\"Enter x2: \"))\n",
    "\n",
    "y2 = int(input(\"Enter y2: \"))\n",
    "\n",
    "d = sqrt((x2-x2)**2 + (y2-y1)**2)\n",
    "\n",
    "s = d**2\n",
    "\n",
    "print(\"the two points are: \")\n",
    "print(\"(\",x1,\",\",y1,\")\")\n",
    "print(\"(\",x2,\",\",y2,\")\")\n",
    "print(\"distance =\",d)\n",
    "print(\"or the sqrt of: \",s)\n",
    "\n"
   ]
  },
  {
   "cell_type": "code",
   "execution_count": 53,
   "id": "c36dae30",
   "metadata": {},
   "outputs": [
    {
     "name": "stdout",
     "output_type": "stream",
     "text": [
      "182 miles\n"
     ]
    }
   ],
   "source": [
    "# pip install geopy\n",
    "\n",
    "from geopy.distance import geodesic\n",
    "  \n",
    "# Loading the lat-long data for Kolkata & Delhi\n",
    "# kolkata = (22.5726, 88.3639)\n",
    "# delhi = (28.7041, 77.1025)\n",
    "\n",
    "Austin = (30.2672,97.7431)\n",
    "\n",
    "Dallas = (32.7767,96.7970)\n",
    "  \n",
    "# Print the distance calculated in km\n",
    "print(round(geodesic(Austin,Dallas).km/(1/0.621371)),\"miles\")\n",
    "\n",
    "\n",
    "# 1 kilometre equals 0.621371 miles.  \n",
    "# Miles = kilometre * 0.621371\n",
    "# And, Kilometre = Miles / 0.621371"
   ]
  },
  {
   "cell_type": "code",
   "execution_count": 55,
   "id": "a1e98f50",
   "metadata": {},
   "outputs": [
    {
     "name": "stdout",
     "output_type": "stream",
     "text": [
      "182 miles\n"
     ]
    }
   ],
   "source": [
    "# Importing the great_circle module from the library\n",
    "from geopy.distance import great_circle\n",
    "  \n",
    "# Loading the lat-long data for Kolkata & Delhi\n",
    "Austin = (30.2672,97.7431)\n",
    "\n",
    "Dallas = (32.7767,96.7970)\n",
    "  \n",
    "# Print the distance calculated in km\n",
    "print(round(great_circle(Austin, Dallas).km/(1/0.621371)),\"miles\")"
   ]
  },
  {
   "cell_type": "code",
   "execution_count": null,
   "id": "bbd8758a",
   "metadata": {},
   "outputs": [],
   "source": []
  },
  {
   "cell_type": "code",
   "execution_count": null,
   "id": "5319a724",
   "metadata": {},
   "outputs": [],
   "source": []
  }
 ],
 "metadata": {
  "kernelspec": {
   "display_name": "Python 3",
   "language": "python",
   "name": "python3"
  },
  "language_info": {
   "codemirror_mode": {
    "name": "ipython",
    "version": 3
   },
   "file_extension": ".py",
   "mimetype": "text/x-python",
   "name": "python",
   "nbconvert_exporter": "python",
   "pygments_lexer": "ipython3",
   "version": "3.8.8"
  }
 },
 "nbformat": 4,
 "nbformat_minor": 5
}
